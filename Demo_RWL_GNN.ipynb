{
  "nbformat": 4,
  "nbformat_minor": 0,
  "metadata": {
    "colab": {
      "name": "Demo: RWL-GNN.ipynb",
      "provenance": [],
      "collapsed_sections": [],
      "authorship_tag": "ABX9TyPdN0Izyvpa88UxqpyKdj92",
      "include_colab_link": true
    },
    "kernelspec": {
      "name": "python3",
      "display_name": "Python 3"
    },
    "language_info": {
      "name": "python"
    },
    "accelerator": "GPU",
    "gpuClass": "standard"
  },
  "cells": [
    {
      "cell_type": "markdown",
      "metadata": {
        "id": "view-in-github",
        "colab_type": "text"
      },
      "source": [
        "<a href=\"https://colab.research.google.com/github/Bharat-Runwal/RWL-GNN/blob/main/Demo_RWL_GNN.ipynb\" target=\"_parent\"><img src=\"https://colab.research.google.com/assets/colab-badge.svg\" alt=\"Open In Colab\"/></a>"
      ]
    },
    {
      "cell_type": "code",
      "execution_count": null,
      "metadata": {
        "id": "IzIeKN3G4stc"
      },
      "outputs": [],
      "source": [
        "!git clone https://github.com/DSE-MSU/DeepRobust.git\n",
        "%cd DeepRobust\n",
        "!python setup.py install\n",
        "!pip install torch_geometric"
      ]
    },
    {
      "cell_type": "code",
      "source": [
        "%cd ..\n",
        "!git clone https://github.com/Bharat-Runwal/RWL-GNN.git\n",
        "%cd RWL-GNN"
      ],
      "metadata": {
        "colab": {
          "base_uri": "https://localhost:8080/"
        },
        "id": "EZWLJuQj5Cgk",
        "outputId": "f4ab6072-247d-48ca-8d1f-88f96224a653"
      },
      "execution_count": null,
      "outputs": [
        {
          "output_type": "stream",
          "name": "stdout",
          "text": [
            "/content\n",
            "Cloning into 'RWL-GNN'...\n",
            "remote: Enumerating objects: 86, done.\u001b[K\n",
            "remote: Counting objects: 100% (86/86), done.\u001b[K\n",
            "remote: Compressing objects: 100% (76/76), done.\u001b[K\n",
            "remote: Total 86 (delta 11), reused 80 (delta 8), pack-reused 0\u001b[K\n",
            "Unpacking objects: 100% (86/86), done.\n",
            "/content/RWL-GNN\n"
          ]
        }
      ]
    },
    {
      "cell_type": "markdown",
      "source": [
        "CORA ptb-0"
      ],
      "metadata": {
        "id": "k1UcNW8v9SHe"
      }
    },
    {
      "cell_type": "code",
      "source": [
        "!python train.py --two_stage y --seed 10  --dataset cora --attack no --ptb_rate 0 --epochs 200  --epochs_pre 400 --alpha 1.0  --gamma 1.0 --beta 0.10 --lr_optim 1e-2 --lr 1e-3 "
      ],
      "metadata": {
        "colab": {
          "base_uri": "https://localhost:8080/"
        },
        "id": "zZkUY9r15OR-",
        "outputId": "efb99315-05c0-4a94-d207-3ef0e62ff4c1"
      },
      "execution_count": null,
      "outputs": [
        {
          "output_type": "stream",
          "name": "stdout",
          "text": [
            "No module named 'torch_sparse'\n",
            "/usr/local/lib/python3.7/dist-packages/deeprobust-0.2.3-py3.7.egg/deeprobust/graph/defense/__init__.py:17: UserWarning: Please install pytorch geometric if you would like to use the datasets from pytorch geometric. See details in https://pytorch-geometric.readthedocs.io/en/latest/notes/installation.html\n",
            "No module named 'torch_sparse'\n",
            "/usr/local/lib/python3.7/dist-packages/deeprobust-0.2.3-py3.7.egg/deeprobust/graph/data/__init__.py:11: UserWarning: Please install pytorch geometric if you would like to use the datasets from pytorch geometric. See details in https://pytorch-geometric.readthedocs.io/en/latest/notes/installation.html\n",
            "Namespace(alpha=1.0, attack='no', beta=0.1, cuda=True, dataset='cora', debug=False, decay='n', dropout=0.5, epochs=200, epochs_pre=400, eps=0.03, gamma=1.0, hidden=16, inner_steps=2, l1=1.3, lr=0.001, lr_adj=0.01, lr_decay_frequency=5, lr_decay_rate=0.1, lr_init=0.001, lr_optim=0.01, no_cuda=False, only_gcn=False, optim='sgd', outer_steps=1, plots='n', ptb_rate=0.0, seed=10, symmetric=False, test='y', two_stage='y', weight_decay=0.0005)\n",
            "Loading cora dataset...\n",
            "Downloading from https://raw.githubusercontent.com/danielzuegner/gnn-meta-attack/master/data/cora.npz to /tmp/cora.npz\n",
            "Done!\n",
            "Selecting 1 largest connected components\n",
            "Dowloading from https://raw.githubusercontent.com/ChandlerBang/Pro-GNN/master/splits/cora_prognn_splits.json to /tmp/cora_prognn_splits.json\n",
            "/content/RWL-GNN/RwlGNN_two.py:169: UserWarning: To copy construct from a tensor, it is recommended to use sourceTensor.clone().detach() or sourceTensor.clone().detach().requires_grad_(True), rather than torch.tensor(sourceTensor).\n",
            "  M_t=torch.tensor(M)\n",
            "Optimization Finished!\n",
            "Total time elapsed: 24.0003s\n",
            "Namespace(alpha=1.0, attack='no', beta=0.1, cuda=True, dataset='cora', debug=False, decay='n', dropout=0.5, epochs=200, epochs_pre=400, eps=0.03, gamma=1.0, hidden=16, inner_steps=2, l1=1.3, lr=0.001, lr_adj=0.01, lr_decay_frequency=5, lr_decay_rate=0.1, lr_init=0.001, lr_optim=0.01, no_cuda=False, only_gcn=False, optim='sgd', outer_steps=1, plots='n', ptb_rate=0.0, seed=10, symmetric=False, test='y', two_stage='y', weight_decay=0.0005)\n",
            "Test set results: loss= 0.5432 accuracy= 0.8365\n"
          ]
        }
      ]
    },
    {
      "cell_type": "code",
      "source": [
        "!python train.py --two_stage y --seed 10  --dataset citeseer --attack no --ptb_rate 0 --epochs 200  --epochs_pre 400 --alpha 1.0  --gamma 1.0 --beta 0.15 --lr_optim 1e-2 --lr 1e-3 "
      ],
      "metadata": {
        "colab": {
          "base_uri": "https://localhost:8080/"
        },
        "id": "aJpICPku63M-",
        "outputId": "13561fb7-b9d9-483c-978d-d48eac625341"
      },
      "execution_count": null,
      "outputs": [
        {
          "output_type": "stream",
          "name": "stdout",
          "text": [
            "No module named 'torch_sparse'\n",
            "/usr/local/lib/python3.7/dist-packages/deeprobust-0.2.3-py3.7.egg/deeprobust/graph/defense/__init__.py:17: UserWarning: Please install pytorch geometric if you would like to use the datasets from pytorch geometric. See details in https://pytorch-geometric.readthedocs.io/en/latest/notes/installation.html\n",
            "No module named 'torch_sparse'\n",
            "/usr/local/lib/python3.7/dist-packages/deeprobust-0.2.3-py3.7.egg/deeprobust/graph/data/__init__.py:11: UserWarning: Please install pytorch geometric if you would like to use the datasets from pytorch geometric. See details in https://pytorch-geometric.readthedocs.io/en/latest/notes/installation.html\n",
            "Namespace(alpha=1.0, attack='no', beta=0.15, cuda=True, dataset='citeseer', debug=False, decay='n', dropout=0.5, epochs=200, epochs_pre=400, eps=0.03, gamma=1.0, hidden=16, inner_steps=2, l1=1.3, lr=0.001, lr_adj=0.01, lr_decay_frequency=5, lr_decay_rate=0.1, lr_init=0.001, lr_optim=0.01, no_cuda=False, only_gcn=False, optim='sgd', outer_steps=1, plots='n', ptb_rate=0.0, seed=10, symmetric=False, test='y', two_stage='y', weight_decay=0.0005)\n",
            "Loading citeseer dataset...\n",
            "Downloading from https://raw.githubusercontent.com/danielzuegner/gnn-meta-attack/master/data/citeseer.npz to /tmp/citeseer.npz\n",
            "Done!\n",
            "Selecting 1 largest connected components\n",
            "Dowloading from https://raw.githubusercontent.com/ChandlerBang/Pro-GNN/master/splits/citeseer_prognn_splits.json to /tmp/citeseer_prognn_splits.json\n",
            "/content/RWL-GNN/RwlGNN_two.py:169: UserWarning: To copy construct from a tensor, it is recommended to use sourceTensor.clone().detach() or sourceTensor.clone().detach().requires_grad_(True), rather than torch.tensor(sourceTensor).\n",
            "  M_t=torch.tensor(M)\n",
            "Optimization Finished!\n",
            "Total time elapsed: 17.1642s\n",
            "Namespace(alpha=1.0, attack='no', beta=0.15, cuda=True, dataset='citeseer', debug=False, decay='n', dropout=0.5, epochs=200, epochs_pre=400, eps=0.03, gamma=1.0, hidden=16, inner_steps=2, l1=1.3, lr=0.001, lr_adj=0.01, lr_decay_frequency=5, lr_decay_rate=0.1, lr_init=0.001, lr_optim=0.01, no_cuda=False, only_gcn=False, optim='sgd', outer_steps=1, plots='n', ptb_rate=0.0, seed=10, symmetric=False, test='y', two_stage='y', weight_decay=0.0005)\n",
            "Test set results: loss= 0.9907 accuracy= 0.7245\n"
          ]
        }
      ]
    },
    {
      "cell_type": "markdown",
      "source": [
        "Nettack-ptb 5"
      ],
      "metadata": {
        "id": "zGwgsAo8Aa4f"
      }
    },
    {
      "cell_type": "markdown",
      "source": [
        "Two-Stage"
      ],
      "metadata": {
        "id": "k3qytxtHAfBm"
      }
    },
    {
      "cell_type": "code",
      "source": [
        "!python train.py --seed 10 --dataset cora  --attack nettack --ptb_rate 5 --epochs 250 --epochs_pre 500 --alpha 1.0  --gamma 1.0 --beta 0.65 --lr_optim 1e-3 --lr 1e-2"
      ],
      "metadata": {
        "colab": {
          "base_uri": "https://localhost:8080/"
        },
        "id": "AfjmoIoV9uc0",
        "outputId": "e65be724-2e51-435c-d94f-c621117df42b"
      },
      "execution_count": null,
      "outputs": [
        {
          "output_type": "stream",
          "name": "stdout",
          "text": [
            "No module named 'torch_sparse'\n",
            "/usr/local/lib/python3.7/dist-packages/deeprobust-0.2.3-py3.7.egg/deeprobust/graph/defense/__init__.py:17: UserWarning: Please install pytorch geometric if you would like to use the datasets from pytorch geometric. See details in https://pytorch-geometric.readthedocs.io/en/latest/notes/installation.html\n",
            "No module named 'torch_sparse'\n",
            "/usr/local/lib/python3.7/dist-packages/deeprobust-0.2.3-py3.7.egg/deeprobust/graph/data/__init__.py:11: UserWarning: Please install pytorch geometric if you would like to use the datasets from pytorch geometric. See details in https://pytorch-geometric.readthedocs.io/en/latest/notes/installation.html\n",
            "Namespace(alpha=1.0, attack='nettack', beta=0.65, cuda=True, dataset='cora', debug=False, decay='n', dropout=0.5, epochs=250, epochs_pre=500, gamma=1.0, hidden=16, inner_steps=2, lr=0.01, lr_optim=0.001, no_cuda=False, only_gcn=False, optim='sgd', outer_steps=1, plots='n', ptb_rate=5.0, seed=10, symmetric=False, test='y', two_stage='y', weight_decay=0.0005)\n",
            "Loading cora dataset...\n",
            "Downloading from https://raw.githubusercontent.com/danielzuegner/gnn-meta-attack/master/data/cora.npz to /tmp/cora.npz\n",
            "Done!\n",
            "Selecting 1 largest connected components\n",
            "Dowloading from https://raw.githubusercontent.com/ChandlerBang/Pro-GNN/master/splits/cora_prognn_splits.json to /tmp/cora_prognn_splits.json\n",
            "Dowloading from https://raw.githubusercontent.com/ChandlerBang/Pro-GNN/master/nettack/cora_nettack_adj_5.0.npz to /tmp/cora_nettack_adj_5.0.npz\n",
            "Loading cora dataset perturbed by 5.0 nettack...\n",
            "/usr/local/lib/python3.7/dist-packages/deeprobust-0.2.3-py3.7.egg/deeprobust/graph/data/attacked_data.py:140: UserWarning: The pre-attacked graph is perturbed under the data splits provided by ProGNN. So if you are going to verify the attacking performance, you should use the same data splits  (setting='prognn').\n",
            "Dowloading from https://raw.githubusercontent.com/ChandlerBang/Pro-GNN/master/nettack/cora_nettacked_nodes.json to /tmp/cora_nettacked_nodes.json\n",
            "/content/RWL-GNN/RwlGNN_two.py:169: UserWarning: To copy construct from a tensor, it is recommended to use sourceTensor.clone().detach() or sourceTensor.clone().detach().requires_grad_(True), rather than torch.tensor(sourceTensor).\n",
            "  M_t=torch.tensor(M)\n",
            "Optimization Finished!\n",
            "Total time elapsed: 30.6620s\n",
            "Namespace(alpha=1.0, attack='nettack', beta=0.65, cuda=True, dataset='cora', debug=False, decay='n', dropout=0.5, epochs=250, epochs_pre=500, gamma=1.0, hidden=16, inner_steps=2, lr=0.01, lr_optim=0.001, no_cuda=False, only_gcn=False, optim='sgd', outer_steps=1, plots='n', ptb_rate=5.0, seed=10, symmetric=False, test='y', two_stage='y', weight_decay=0.0005)\n",
            "Test set results: loss= 0.8796 accuracy= 0.7711\n"
          ]
        }
      ]
    },
    {
      "cell_type": "code",
      "source": [
        "!python train.py --two_stage n --seed 10 --dataset citeseer  --attack nettack --ptb_rate 5 --epochs 250 --epochs_pre 500 --alpha 1.0  --gamma 1.0 --beta 0.25 --lr_optim 1e-2 --lr 1e-3 "
      ],
      "metadata": {
        "colab": {
          "base_uri": "https://localhost:8080/"
        },
        "id": "AKdXf1H-_JCI",
        "outputId": "6f940f7c-856d-472b-ef8a-affab5123bf1"
      },
      "execution_count": null,
      "outputs": [
        {
          "output_type": "stream",
          "name": "stdout",
          "text": [
            "No module named 'torch_sparse'\n",
            "/usr/local/lib/python3.7/dist-packages/deeprobust-0.2.3-py3.7.egg/deeprobust/graph/defense/__init__.py:17: UserWarning: Please install pytorch geometric if you would like to use the datasets from pytorch geometric. See details in https://pytorch-geometric.readthedocs.io/en/latest/notes/installation.html\n",
            "No module named 'torch_sparse'\n",
            "/usr/local/lib/python3.7/dist-packages/deeprobust-0.2.3-py3.7.egg/deeprobust/graph/data/__init__.py:11: UserWarning: Please install pytorch geometric if you would like to use the datasets from pytorch geometric. See details in https://pytorch-geometric.readthedocs.io/en/latest/notes/installation.html\n",
            "Namespace(alpha=1.0, attack='nettack', beta=0.25, cuda=True, dataset='citeseer', debug=False, decay='n', dropout=0.5, epochs=250, epochs_pre=500, gamma=1.0, hidden=16, inner_steps=2, lr=0.001, lr_optim=0.01, no_cuda=False, only_gcn=False, optim='sgd', outer_steps=1, plots='n', ptb_rate=5.0, seed=10, symmetric=False, test='y', two_stage='n', weight_decay=0.0005)\n",
            "Loading citeseer dataset...\n",
            "Selecting 1 largest connected components\n",
            "Loading citeseer dataset perturbed by 5.0 nettack...\n",
            "/usr/local/lib/python3.7/dist-packages/deeprobust-0.2.3-py3.7.egg/deeprobust/graph/data/attacked_data.py:140: UserWarning: The pre-attacked graph is perturbed under the data splits provided by ProGNN. So if you are going to verify the attacking performance, you should use the same data splits  (setting='prognn').\n",
            "/content/RWL-GNN/RwlGNN.py:369: UserWarning: To copy construct from a tensor, it is recommended to use sourceTensor.clone().detach() or sourceTensor.clone().detach().requires_grad_(True), rather than torch.tensor(sourceTensor).\n",
            "  M_t=torch.tensor(M)\n",
            "Optimization Finished!\n",
            "Total time elapsed: 73.6003s\n",
            "Namespace(alpha=1.0, attack='nettack', beta=0.25, cuda=True, dataset='citeseer', debug=False, decay='n', dropout=0.5, epochs=250, epochs_pre=500, gamma=1.0, hidden=16, inner_steps=2, lr=0.001, lr_optim=0.01, no_cuda=False, only_gcn=False, optim='sgd', outer_steps=1, plots='n', ptb_rate=5.0, seed=10, symmetric=False, test='y', two_stage='n', weight_decay=0.0005)\n",
            "picking the best model according to validation performance\n",
            "\t=== testing ===\n",
            "\tTest set results: loss= 1.1069 accuracy= 0.8095\n"
          ]
        }
      ]
    },
    {
      "cell_type": "code",
      "source": [
        ""
      ],
      "metadata": {
        "id": "937xUnRMAsDe"
      },
      "execution_count": null,
      "outputs": []
    }
  ]
}